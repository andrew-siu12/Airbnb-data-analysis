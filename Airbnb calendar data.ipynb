{
 "cells": [
  {
   "cell_type": "code",
   "execution_count": null,
   "metadata": {
    "ExecuteTime": {
     "end_time": "2019-06-26T18:55:28.326281Z",
     "start_time": "2019-06-26T18:55:26.539725Z"
    }
   },
   "outputs": [],
   "source": [
    "# Data manipulation\n",
    "import pandas as pd\n",
    "import numpy as np\n",
    "import matplotlib.pyplot as plt\n",
    "import seaborn as sns\n",
    "\n",
    "from pprint import pprint\n",
    "import datetime\n",
    "\n",
    "# Options for pandas\n",
    "pd.options.display.max_columns = 50\n",
    "pd.options.display.max_rows = 100\n",
    "\n",
    "sns.set()\n",
    "\n",
    "\n",
    "%matplotlib inline\n",
    "# Display all cell outputs"
   ]
  },
  {
   "cell_type": "markdown",
   "metadata": {},
   "source": [
    "# Analysis"
   ]
  },
  {
   "cell_type": "code",
   "execution_count": 2,
   "metadata": {
    "ExecuteTime": {
     "end_time": "2019-06-26T18:56:26.936837Z",
     "start_time": "2019-06-26T18:55:30.020251Z"
    }
   },
   "outputs": [],
   "source": [
    "df_calendar = pd.read_csv('data/calendar.csv.gz', low_memory=False)"
   ]
  },
  {
   "cell_type": "code",
   "execution_count": 3,
   "metadata": {
    "ExecuteTime": {
     "end_time": "2019-06-26T18:58:50.201990Z",
     "start_time": "2019-06-26T18:58:50.005390Z"
    }
   },
   "outputs": [
    {
     "name": "stdout",
     "output_type": "stream",
     "text": [
      "There are 80767 of unique listings\n"
     ]
    }
   ],
   "source": [
    "print(f\"There are {df_calendar.listing_id.nunique()} of unique listings\")"
   ]
  },
  {
   "cell_type": "code",
   "execution_count": 4,
   "metadata": {
    "ExecuteTime": {
     "end_time": "2019-06-26T18:58:50.397699Z",
     "start_time": "2019-06-26T18:58:50.386963Z"
    }
   },
   "outputs": [
    {
     "name": "stdout",
     "output_type": "stream",
     "text": [
      "<class 'pandas.core.frame.DataFrame'>\n",
      "RangeIndex: 29480811 entries, 0 to 29480810\n",
      "Data columns (total 7 columns):\n",
      "listing_id        int64\n",
      "date              object\n",
      "available         object\n",
      "price             object\n",
      "adjusted_price    object\n",
      "minimum_nights    float64\n",
      "maximum_nights    float64\n",
      "dtypes: float64(2), int64(1), object(4)\n",
      "memory usage: 1.5+ GB\n"
     ]
    }
   ],
   "source": [
    "df_calendar.info()"
   ]
  },
  {
   "cell_type": "code",
   "execution_count": 5,
   "metadata": {
    "ExecuteTime": {
     "end_time": "2019-06-26T18:58:50.847635Z",
     "start_time": "2019-06-26T18:58:50.837876Z"
    }
   },
   "outputs": [],
   "source": [
    "def clean_df(df):\n",
    "    \"\"\"Remove the dollar sign in front of price and adjusted_price, Convert the categorical varaible into binary variable,\n",
    "       and turn date to datetime object.\n",
    "\n",
    "       inputs:\n",
    "           df: A pandas dataframe object\n",
    "       returns:\n",
    "           df: A cleaned version of dataframe\n",
    "    \"\"\"\n",
    "    df1 = df.copy()\n",
    "    \n",
    "    df1['price'] = df1['price'].str.replace(',', '')\n",
    "    df1['price'] = df1['price'].str.replace('$', '').astype(float)\n",
    "    \n",
    "    df1['adjusted_price'] = df1['adjusted_price'].str.replace(',', '')\n",
    "    df1['adjusted_price'] = df1['adjusted_price'].str.replace('$', '').astype(float)\n",
    "    \n",
    "    \n",
    "    df1['bookings'] = df1['available'].map(lambda x: 0 if x == 't' else 1)\n",
    "    \n",
    "    df1['date'] = pd.to_datetime(df1['date'])\n",
    "    df1 = df1[df1.date != '2020-05-05']\n",
    "    df1['month'] = df1['date'].dt.strftime('%B')\n",
    "    \n",
    "    return df1\n",
    "    "
   ]
  },
  {
   "cell_type": "code",
   "execution_count": 6,
   "metadata": {
    "ExecuteTime": {
     "end_time": "2019-06-26T19:03:19.001366Z",
     "start_time": "2019-06-26T18:58:51.507411Z"
    }
   },
   "outputs": [],
   "source": [
    "cleaned_calendar = clean_df(df_calendar)"
   ]
  },
  {
   "cell_type": "code",
   "execution_count": 7,
   "metadata": {
    "ExecuteTime": {
     "end_time": "2019-06-26T19:06:00.346522Z",
     "start_time": "2019-06-26T19:06:00.319194Z"
    }
   },
   "outputs": [
    {
     "data": {
      "text/html": [
       "<div>\n",
       "<style scoped>\n",
       "    .dataframe tbody tr th:only-of-type {\n",
       "        vertical-align: middle;\n",
       "    }\n",
       "\n",
       "    .dataframe tbody tr th {\n",
       "        vertical-align: top;\n",
       "    }\n",
       "\n",
       "    .dataframe thead th {\n",
       "        text-align: right;\n",
       "    }\n",
       "</style>\n",
       "<table border=\"1\" class=\"dataframe\">\n",
       "  <thead>\n",
       "    <tr style=\"text-align: right;\">\n",
       "      <th></th>\n",
       "      <th>listing_id</th>\n",
       "      <th>date</th>\n",
       "      <th>available</th>\n",
       "      <th>price</th>\n",
       "      <th>adjusted_price</th>\n",
       "      <th>minimum_nights</th>\n",
       "      <th>maximum_nights</th>\n",
       "      <th>bookings</th>\n",
       "      <th>month</th>\n",
       "    </tr>\n",
       "  </thead>\n",
       "  <tbody>\n",
       "    <tr>\n",
       "      <th>0</th>\n",
       "      <td>11551</td>\n",
       "      <td>2019-05-06</td>\n",
       "      <td>f</td>\n",
       "      <td>105.0</td>\n",
       "      <td>105.0</td>\n",
       "      <td>2.0</td>\n",
       "      <td>180.0</td>\n",
       "      <td>1</td>\n",
       "      <td>May</td>\n",
       "    </tr>\n",
       "    <tr>\n",
       "      <th>1</th>\n",
       "      <td>11551</td>\n",
       "      <td>2019-05-07</td>\n",
       "      <td>f</td>\n",
       "      <td>105.0</td>\n",
       "      <td>105.0</td>\n",
       "      <td>2.0</td>\n",
       "      <td>180.0</td>\n",
       "      <td>1</td>\n",
       "      <td>May</td>\n",
       "    </tr>\n",
       "    <tr>\n",
       "      <th>2</th>\n",
       "      <td>99333</td>\n",
       "      <td>2019-05-06</td>\n",
       "      <td>f</td>\n",
       "      <td>111.0</td>\n",
       "      <td>111.0</td>\n",
       "      <td>2.0</td>\n",
       "      <td>28.0</td>\n",
       "      <td>1</td>\n",
       "      <td>May</td>\n",
       "    </tr>\n",
       "    <tr>\n",
       "      <th>3</th>\n",
       "      <td>99333</td>\n",
       "      <td>2019-05-07</td>\n",
       "      <td>f</td>\n",
       "      <td>79.0</td>\n",
       "      <td>79.0</td>\n",
       "      <td>2.0</td>\n",
       "      <td>28.0</td>\n",
       "      <td>1</td>\n",
       "      <td>May</td>\n",
       "    </tr>\n",
       "    <tr>\n",
       "      <th>4</th>\n",
       "      <td>99333</td>\n",
       "      <td>2019-05-08</td>\n",
       "      <td>f</td>\n",
       "      <td>79.0</td>\n",
       "      <td>79.0</td>\n",
       "      <td>2.0</td>\n",
       "      <td>28.0</td>\n",
       "      <td>1</td>\n",
       "      <td>May</td>\n",
       "    </tr>\n",
       "  </tbody>\n",
       "</table>\n",
       "</div>"
      ],
      "text/plain": [
       "   listing_id       date available  price  adjusted_price  minimum_nights  \\\n",
       "0       11551 2019-05-06         f  105.0           105.0             2.0   \n",
       "1       11551 2019-05-07         f  105.0           105.0             2.0   \n",
       "2       99333 2019-05-06         f  111.0           111.0             2.0   \n",
       "3       99333 2019-05-07         f   79.0            79.0             2.0   \n",
       "4       99333 2019-05-08         f   79.0            79.0             2.0   \n",
       "\n",
       "   maximum_nights  bookings month  \n",
       "0           180.0         1   May  \n",
       "1           180.0         1   May  \n",
       "2            28.0         1   May  \n",
       "3            28.0         1   May  \n",
       "4            28.0         1   May  "
      ]
     },
     "execution_count": 7,
     "metadata": {},
     "output_type": "execute_result"
    }
   ],
   "source": [
    "cleaned_calendar.head(5)"
   ]
  },
  {
   "cell_type": "code",
   "execution_count": 8,
   "metadata": {
    "ExecuteTime": {
     "end_time": "2019-06-26T19:06:04.324411Z",
     "start_time": "2019-06-26T19:06:00.904938Z"
    }
   },
   "outputs": [
    {
     "data": {
      "text/plain": [
       "listing_id\n",
       "26628731    366\n",
       "26629436    366\n",
       "26678149    366\n",
       "26683298    366\n",
       "26746800    366\n",
       "Name: bookings, dtype: int64"
      ]
     },
     "execution_count": 8,
     "metadata": {},
     "output_type": "execute_result"
    }
   ],
   "source": [
    "num_bookings = cleaned_calendar.groupby(['listing_id']).bookings.count()\n",
    "num_bookings[num_bookings > 365].head()"
   ]
  },
  {
   "cell_type": "code",
   "execution_count": 9,
   "metadata": {
    "ExecuteTime": {
     "end_time": "2019-06-26T19:06:05.786339Z",
     "start_time": "2019-06-26T19:06:04.681980Z"
    }
   },
   "outputs": [],
   "source": [
    "avg_booked_rate = cleaned_calendar.groupby('date')['bookings'].mean()"
   ]
  },
  {
   "cell_type": "code",
   "execution_count": 10,
   "metadata": {
    "ExecuteTime": {
     "end_time": "2019-06-26T19:06:06.115251Z",
     "start_time": "2019-06-26T19:06:06.110371Z"
    }
   },
   "outputs": [
    {
     "data": {
      "text/plain": [
       "date\n",
       "2020-04-30    0.711603\n",
       "2020-05-01    0.711107\n",
       "2020-05-02    0.710934\n",
       "2020-05-03    0.710154\n",
       "2020-05-04    0.691769\n",
       "Name: bookings, dtype: float64"
      ]
     },
     "execution_count": 10,
     "metadata": {},
     "output_type": "execute_result"
    }
   ],
   "source": [
    "avg_booked_rate.tail()"
   ]
  },
  {
   "cell_type": "code",
   "execution_count": 20,
   "metadata": {
    "ExecuteTime": {
     "end_time": "2019-06-26T19:12:22.075464Z",
     "start_time": "2019-06-26T19:12:20.511521Z"
    }
   },
   "outputs": [
    {
     "data": {
      "image/png": "[encoded data removed]",
      "text/plain": [
       "<Figure size 720x288 with 1 Axes>"
      ]
     },
     "metadata": {
      "needs_background": "light"
     },
     "output_type": "display_data"
    }
   ],
   "source": [
    "fig, ax = plt.subplots(figsize=(10,4))\n",
    "lineplot = sns.lineplot(color='b',\n",
    "             ax=ax,\n",
    "             data = avg_booked_rate)\n",
    "ax.set_title('London Airbnb Calendar')\n",
    "ax.set_ylabel('Occupancy Rate')\n",
    "\n",
    "lineplot.figure.savefig('images/calendar.png', dpi=800);"
   ]
  },
  {
   "cell_type": "code",
   "execution_count": 12,
   "metadata": {
    "ExecuteTime": {
     "end_time": "2019-06-26T19:06:09.346643Z",
     "start_time": "2019-06-26T19:06:08.540469Z"
    }
   },
   "outputs": [],
   "source": [
    "monthly_price = cleaned_calendar.groupby(['date'], sort=False)['price'].mean()\n",
    "monthly_price_df = monthly_price.to_frame().reset_index()\n",
    "monthly_price_df['month'] = monthly_price_df['date'].dt.strftime('%B')\n",
    "#monthly_price_df['day'] = monthly_price_df['date'].dt.strftime('%A')"
   ]
  },
  {
   "cell_type": "code",
   "execution_count": 13,
   "metadata": {
    "ExecuteTime": {
     "end_time": "2019-06-26T19:06:09.803024Z",
     "start_time": "2019-06-26T19:06:09.798144Z"
    }
   },
   "outputs": [],
   "source": [
    "monthly_price_df = monthly_price_df[monthly_price_df.price > 105]"
   ]
  },
  {
   "cell_type": "code",
   "execution_count": 19,
   "metadata": {
    "ExecuteTime": {
     "end_time": "2019-06-26T19:10:59.594386Z",
     "start_time": "2019-06-26T19:10:59.582673Z"
    }
   },
   "outputs": [],
   "source": [
    "monthly_price_df.to_csv('preprocessed_data/avg_price_listings.csv')"
   ]
  },
  {
   "cell_type": "code",
   "execution_count": 14,
   "metadata": {
    "ExecuteTime": {
     "end_time": "2019-06-26T19:06:10.234777Z",
     "start_time": "2019-06-26T19:06:10.227945Z"
    }
   },
   "outputs": [
    {
     "name": "stdout",
     "output_type": "stream",
     "text": [
      "<class 'pandas.core.frame.DataFrame'>\n",
      "Int64Index: 365 entries, 0 to 364\n",
      "Data columns (total 3 columns):\n",
      "date     365 non-null datetime64[ns]\n",
      "price    365 non-null float64\n",
      "month    365 non-null object\n",
      "dtypes: datetime64[ns](1), float64(1), object(1)\n",
      "memory usage: 11.4+ KB\n"
     ]
    }
   ],
   "source": [
    "monthly_price_df.info()"
   ]
  },
  {
   "cell_type": "markdown",
   "metadata": {},
   "source": [
    "**Which month is more expensive to travel on?**\n",
    "\n",
    "* The average prices tends to increases along the year except for May which is signifactly lower than the other months. In comparsion to the 'Number of reviews' plots in previous sections, the pattern is similar except for May and December. \n",
    "* December is more expensive compared to the other months. This may be because december is the holiday season and people are more likely to travel. May is the cheapest month to make a booking in Airbnb, maybe because it's closer to exam period. "
   ]
  },
  {
   "cell_type": "code",
   "execution_count": 21,
   "metadata": {
    "ExecuteTime": {
     "end_time": "2019-06-26T19:12:29.699057Z",
     "start_time": "2019-06-26T19:12:26.483574Z"
    }
   },
   "outputs": [
    {
     "data": {
      "image/png": "[encoded data removed]",
      "text/plain": [
       "<Figure size 864x504 with 1 Axes>"
      ]
     },
     "metadata": {
      "needs_background": "light"
     },
     "output_type": "display_data"
    }
   ],
   "source": [
    "fig, ax = plt.subplots(figsize=(12, 7))\n",
    "monthly_boxplot = sns.boxplot(monthly_price_df.price, monthly_price_df.month)\n",
    "ax.set_xlabel('Average Price', fontsize=12)\n",
    "ax.set_ylabel('Month', fontsize=12)\n",
    "ax.set_title('Boxplots of Average Price by Month', fontsize=16)\n",
    "fig.savefig('images/boxplot_price.png', dpi=800);"
   ]
  },
  {
   "cell_type": "code",
   "execution_count": null,
   "metadata": {},
   "outputs": [],
   "source": []
  }
 ],
 "metadata": {
  "kernelspec": {
   "display_name": "Python 3",
   "language": "python",
   "name": "python3"
  },
  "toc": {
   "base_numbering": 1,
   "nav_menu": {},
   "number_sections": true,
   "sideBar": true,
   "skip_h1_title": false,
   "title_cell": "Table of Contents",
   "title_sidebar": "Contents",
   "toc_cell": false,
   "toc_position": {},
   "toc_section_display": true,
   "toc_window_display": false
  },
  "varInspector": {
   "cols": {
    "lenName": 16,
    "lenType": 16,
    "lenVar": 40
   },
   "kernels_config": {
    "python": {
     "delete_cmd_postfix": "",
     "delete_cmd_prefix": "del ",
     "library": "var_list.py",
     "varRefreshCmd": "print(var_dic_list())"
    },
    "r": {
     "delete_cmd_postfix": ") ",
     "delete_cmd_prefix": "rm(",
     "library": "var_list.r",
     "varRefreshCmd": "cat(var_dic_list()) "
    }
   },
   "types_to_exclude": [
    "module",
    "function",
    "builtin_function_or_method",
    "instance",
    "_Feature"
   ],
   "window_display": false
  }
 },
 "nbformat": 4,
 "nbformat_minor": 2
}
