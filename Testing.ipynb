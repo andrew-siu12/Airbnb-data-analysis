{
 "cells": [
  {
   "cell_type": "code",
   "execution_count": 1,
   "metadata": {
    "ExecuteTime": {
     "end_time": "2019-07-01T22:58:09.106068Z",
     "start_time": "2019-07-01T22:58:06.841328Z"
    }
   },
   "outputs": [
    {
     "data": {
      "text/html": [
       "        <script type=\"text/javascript\">\n",
       "        window.PlotlyConfig = {MathJaxConfig: 'local'};\n",
       "        if (window.MathJax) {MathJax.Hub.Config({SVG: {font: \"STIX-Web\"}});}\n",
       "        if (typeof require !== 'undefined') {\n",
       "        require.undef(\"plotly\");\n",
       "        requirejs.config({\n",
       "            paths: {\n",
       "                'plotly': ['https://cdn.plot.ly/plotly-latest.min']\n",
       "            }\n",
       "        });\n",
       "        require(['plotly'], function(Plotly) {\n",
       "            window._Plotly = Plotly;\n",
       "        });\n",
       "        }\n",
       "        </script>\n",
       "        "
      ]
     },
     "metadata": {},
     "output_type": "display_data"
    }
   ],
   "source": [
    "import geopandas as gdf\n",
    "import pandas as pd\n",
    "\n",
    "from plotly import tools\n",
    "import plotly.offline as py\n",
    "py.init_notebook_mode(connected=True)\n",
    "import plotly.graph_objs as go\n",
    "import plotly.figure_factory as ff"
   ]
  },
  {
   "cell_type": "code",
   "execution_count": 2,
   "metadata": {
    "ExecuteTime": {
     "end_time": "2019-07-01T22:58:09.140229Z",
     "start_time": "2019-07-01T22:58:09.118756Z"
    }
   },
   "outputs": [],
   "source": [
    "boroughs_df = pd.read_csv('data/neighbourhoods.csv')\n"
   ]
  },
  {
   "cell_type": "code",
   "execution_count": 3,
   "metadata": {
    "ExecuteTime": {
     "end_time": "2019-07-01T22:58:09.558545Z",
     "start_time": "2019-07-01T22:58:09.551714Z"
    }
   },
   "outputs": [],
   "source": [
    "lat = ['51.3817754504249',\n",
    "       '51.355059200361794',\n",
    "       '51.3668649405902',\n",
    "       '51.46188279462171',\n",
    "       '51.525070969406606',\n",
    "       '51.5597452903164',\n",
    "       '51.5425185324895',\n",
    "       '51.5967692888674',\n",
    "       '51.5638262772966',\n",
    "       '51.6125229993157',\n",
    "       '51.648740144141996',\n",
    "       '51.5981693576398',\n",
    "       '51.5863656348901',\n",
    "       '51.357512239366294',\n",
    "       '51.4597987392381',\n",
    "       '51.4646708350317',\n",
    "       '51.45343193384729',\n",
    "       '51.467585300113',\n",
    "       '51.46088543576221',\n",
    "       '51.4401700809948',\n",
    "       '51.41081020443621',\n",
    "       '51.451347955195395',\n",
    "       '51.498710378730095',\n",
    "       '51.5038343987405',\n",
    "       '51.5155771478236',\n",
    "       '51.5122924514503',\n",
    "       '51.5428273562621',\n",
    "       '51.515239013682205',\n",
    "       '51.5471563729848',\n",
    "       '51.548811878881295',\n",
    "       '51.5879302216211',\n",
    "       '51.531166131690206',\n",
    "       '51.5556847215674']\n",
    "\n",
    "lon = ['-0.276987050007981',\n",
    "       '-0.06431427132855701',\n",
    "       '0.06169203292611901',\n",
    "       '-0.37987277894331395',\n",
    "       '-0.31431185847507104',\n",
    "       '0.24972236190822303',\n",
    "       '-0.44833254387690097',\n",
    "       '-0.337274917279205',\n",
    "       '-0.275759809255159',\n",
    "       '-0.21144402104819196',\n",
    "       '-0.08098040560155001',\n",
    "       '-0.017836943851287',\n",
    "       '0.069759574510861',\n",
    "       '-0.173640421848503',\n",
    "       '-0.12167601825850699',\n",
    "       '-0.068515458341503',\n",
    "       '-0.012510472707481',\n",
    "       '0.04834649123588201',\n",
    "       '0.144382304352732',\n",
    "       '-0.28861080133140504',\n",
    "       '-0.188111072063012',\n",
    "       '-0.19799735244210298',\n",
    "       '-0.23084475395809098',\n",
    "       '-0.20082825715441296',\n",
    "       '-0.093603158312844',\n",
    "       '-0.15320611073825502',\n",
    "       '-0.162504612833426',\n",
    "       '-0.035948769328721',\n",
    "       '-0.10169362989877802',\n",
    "       '-0.047666426098945995',\n",
    "       '-0.10541019047092501',\n",
    "       '0.027808129546499',\n",
    "       '0.150546917292094']\n",
    "\n",
    "borough = ['Kingston upon Thames', 'Croydon', 'Bromley', 'Hounslow', 'Ealing',\n",
    "           'Havering', 'Hillingdon', 'Harrow', 'Brent', 'Barnet', 'Enfield',\n",
    "           'Waltham Forest', 'Redbridge', 'Sutton', 'Lambeth', 'Southwark',\n",
    "           'Lewisham', 'Greenwich', 'Bexley', 'Richmond upon Thames',\n",
    "           'Merton', 'Wandsworth', 'Hammersmith and Fulham',\n",
    "           'Kensington and Chelsea', 'City of London', 'Westminster',\n",
    "           'Camden', 'Tower Hamlets', 'Islington', 'Hackney', 'Haringey',\n",
    "           'Newham', 'Barking and Dagenham']\n",
    "\n",
    "lat_lon_df = pd.DataFrame({'Boroughs': borough,\n",
    "                           'Latitude': lat,\n",
    "                           'Longitude': lon})"
   ]
  },
  {
   "cell_type": "code",
   "execution_count": 4,
   "metadata": {
    "ExecuteTime": {
     "end_time": "2019-07-01T22:58:10.586766Z",
     "start_time": "2019-07-01T22:58:10.581887Z"
    }
   },
   "outputs": [],
   "source": [
    "lat_lon_df['Latitude'] = lat_lon_df['Latitude'].astype('float64')\n",
    "lat_lon_df['Longitude'] = lat_lon_df['Longitude'].astype('float64')"
   ]
  },
  {
   "cell_type": "code",
   "execution_count": 5,
   "metadata": {
    "ExecuteTime": {
     "end_time": "2019-07-01T22:58:11.188958Z",
     "start_time": "2019-07-01T22:58:11.183124Z"
    }
   },
   "outputs": [],
   "source": [
    "lat_lon_df.to_csv('preprocessed_data/lat_lon_boroughs.csv')"
   ]
  },
  {
   "cell_type": "code",
   "execution_count": 6,
   "metadata": {
    "ExecuteTime": {
     "end_time": "2019-07-01T22:58:14.359821Z",
     "start_time": "2019-07-01T22:58:14.352989Z"
    }
   },
   "outputs": [
    {
     "data": {
      "text/plain": [
       "array(['Kingston upon Thames', 'Croydon', 'Bromley', 'Hounslow', 'Ealing',\n",
       "       'Havering', 'Hillingdon', 'Harrow', 'Brent', 'Barnet', 'Enfield',\n",
       "       'Waltham Forest', 'Redbridge', 'Sutton', 'Lambeth', 'Southwark',\n",
       "       'Lewisham', 'Greenwich', 'Bexley', 'Richmond upon Thames',\n",
       "       'Merton', 'Wandsworth', 'Hammersmith and Fulham',\n",
       "       'Kensington and Chelsea', 'City of London', 'Westminster',\n",
       "       'Camden', 'Tower Hamlets', 'Islington', 'Hackney', 'Haringey',\n",
       "       'Newham', 'Barking and Dagenham'], dtype=object)"
      ]
     },
     "execution_count": 6,
     "metadata": {},
     "output_type": "execute_result"
    }
   ],
   "source": [
    "boroughs_df.neighbourhood.values"
   ]
  },
  {
   "cell_type": "code",
   "execution_count": 7,
   "metadata": {
    "ExecuteTime": {
     "end_time": "2019-07-01T22:58:15.167496Z",
     "start_time": "2019-07-01T22:58:14.868205Z"
    }
   },
   "outputs": [],
   "source": [
    "boroughs_gdf = gdf.read_file('data/neighbourhoods.geojson')"
   ]
  },
  {
   "cell_type": "code",
   "execution_count": 8,
   "metadata": {
    "ExecuteTime": {
     "end_time": "2019-07-01T22:58:15.449561Z",
     "start_time": "2019-07-01T22:58:15.444680Z"
    }
   },
   "outputs": [],
   "source": [
    "boroughs_gdf = boroughs_gdf.drop('neighbourhood_group', axis=1)"
   ]
  },
  {
   "cell_type": "code",
   "execution_count": 9,
   "metadata": {
    "ExecuteTime": {
     "end_time": "2019-07-01T22:58:15.750167Z",
     "start_time": "2019-07-01T22:58:15.742360Z"
    }
   },
   "outputs": [],
   "source": [
    "df = pd.read_csv('preprocessed_data/borough_price_review.csv')\n",
    "df\n",
    "df.drop(\"Unnamed: 0\", axis=1, inplace=True)"
   ]
  },
  {
   "cell_type": "code",
   "execution_count": 10,
   "metadata": {
    "ExecuteTime": {
     "end_time": "2019-07-01T22:58:16.248347Z",
     "start_time": "2019-07-01T22:58:16.239563Z"
    }
   },
   "outputs": [
    {
     "data": {
      "text/html": [
       "<div>\n",
       "<style scoped>\n",
       "    .dataframe tbody tr th:only-of-type {\n",
       "        vertical-align: middle;\n",
       "    }\n",
       "\n",
       "    .dataframe tbody tr th {\n",
       "        vertical-align: top;\n",
       "    }\n",
       "\n",
       "    .dataframe thead th {\n",
       "        text-align: right;\n",
       "    }\n",
       "</style>\n",
       "<table border=\"1\" class=\"dataframe\">\n",
       "  <thead>\n",
       "    <tr style=\"text-align: right;\">\n",
       "      <th></th>\n",
       "      <th>neighbourhood_cleansed</th>\n",
       "      <th>review_scores_rating</th>\n",
       "      <th>median_price</th>\n",
       "    </tr>\n",
       "  </thead>\n",
       "  <tbody>\n",
       "    <tr>\n",
       "      <th>0</th>\n",
       "      <td>Barking and Dagenham</td>\n",
       "      <td>91.826590</td>\n",
       "      <td>40.0</td>\n",
       "    </tr>\n",
       "    <tr>\n",
       "      <th>1</th>\n",
       "      <td>Barnet</td>\n",
       "      <td>94.041372</td>\n",
       "      <td>55.0</td>\n",
       "    </tr>\n",
       "    <tr>\n",
       "      <th>2</th>\n",
       "      <td>Bexley</td>\n",
       "      <td>90.141892</td>\n",
       "      <td>40.0</td>\n",
       "    </tr>\n",
       "    <tr>\n",
       "      <th>3</th>\n",
       "      <td>Brent</td>\n",
       "      <td>92.479477</td>\n",
       "      <td>59.0</td>\n",
       "    </tr>\n",
       "    <tr>\n",
       "      <th>4</th>\n",
       "      <td>Bromley</td>\n",
       "      <td>92.275463</td>\n",
       "      <td>50.0</td>\n",
       "    </tr>\n",
       "    <tr>\n",
       "      <th>5</th>\n",
       "      <td>Camden</td>\n",
       "      <td>91.874067</td>\n",
       "      <td>100.0</td>\n",
       "    </tr>\n",
       "    <tr>\n",
       "      <th>6</th>\n",
       "      <td>City of London</td>\n",
       "      <td>91.142857</td>\n",
       "      <td>143.0</td>\n",
       "    </tr>\n",
       "    <tr>\n",
       "      <th>7</th>\n",
       "      <td>Croydon</td>\n",
       "      <td>93.332851</td>\n",
       "      <td>45.0</td>\n",
       "    </tr>\n",
       "    <tr>\n",
       "      <th>8</th>\n",
       "      <td>Ealing</td>\n",
       "      <td>93.531842</td>\n",
       "      <td>55.0</td>\n",
       "    </tr>\n",
       "    <tr>\n",
       "      <th>9</th>\n",
       "      <td>Enfield</td>\n",
       "      <td>93.679045</td>\n",
       "      <td>50.0</td>\n",
       "    </tr>\n",
       "  </tbody>\n",
       "</table>\n",
       "</div>"
      ],
      "text/plain": [
       "  neighbourhood_cleansed  review_scores_rating  median_price\n",
       "0   Barking and Dagenham             91.826590          40.0\n",
       "1                 Barnet             94.041372          55.0\n",
       "2                 Bexley             90.141892          40.0\n",
       "3                  Brent             92.479477          59.0\n",
       "4                Bromley             92.275463          50.0\n",
       "5                 Camden             91.874067         100.0\n",
       "6         City of London             91.142857         143.0\n",
       "7                Croydon             93.332851          45.0\n",
       "8                 Ealing             93.531842          55.0\n",
       "9                Enfield             93.679045          50.0"
      ]
     },
     "execution_count": 10,
     "metadata": {},
     "output_type": "execute_result"
    }
   ],
   "source": [
    "df.head(10)"
   ]
  },
  {
   "cell_type": "code",
   "execution_count": 11,
   "metadata": {
    "ExecuteTime": {
     "end_time": "2019-07-01T22:58:16.689498Z",
     "start_time": "2019-07-01T22:58:16.681691Z"
    }
   },
   "outputs": [],
   "source": [
    "merged = boroughs_gdf.merge(df, left_on='neighbourhood', right_on='neighbourhood_cleansed' )\n",
    "merged.drop(['neighbourhood_cleansed', 'review_scores_rating'], axis=1, inplace=True)"
   ]
  },
  {
   "cell_type": "code",
   "execution_count": 12,
   "metadata": {
    "ExecuteTime": {
     "end_time": "2019-07-01T22:58:17.285936Z",
     "start_time": "2019-07-01T22:58:17.280006Z"
    }
   },
   "outputs": [],
   "source": [
    "merged['median_price'] = pd.cut(merged['median_price'], bins=[39, 58, 75, 93, 110, 150],\n",
    "                                labels=['39-57', '58-74',\n",
    "                                        '75-92', '93-109',\n",
    "                                        '110-149'])"
   ]
  },
  {
   "cell_type": "code",
   "execution_count": 13,
   "metadata": {
    "ExecuteTime": {
     "end_time": "2019-07-01T22:58:17.851914Z",
     "start_time": "2019-07-01T22:58:17.848010Z"
    }
   },
   "outputs": [],
   "source": [
    "merged['median_price'] = merged['median_price'].astype(str)"
   ]
  },
  {
   "cell_type": "code",
   "execution_count": 14,
   "metadata": {
    "ExecuteTime": {
     "end_time": "2019-07-01T22:58:18.395550Z",
     "start_time": "2019-07-01T22:58:18.391646Z"
    }
   },
   "outputs": [
    {
     "name": "stdout",
     "output_type": "stream",
     "text": [
      "['39-57' '58-74' '75-92' '110-149' '93-109']\n"
     ]
    }
   ],
   "source": [
    "bins = merged['median_price'].unique()\n",
    "\n",
    "print(bins)"
   ]
  },
  {
   "cell_type": "code",
   "execution_count": 15,
   "metadata": {
    "ExecuteTime": {
     "end_time": "2019-07-01T22:58:19.537990Z",
     "start_time": "2019-07-01T22:58:18.942625Z"
    }
   },
   "outputs": [],
   "source": [
    "for bin in bins:\n",
    "    geo_layer = merged[(merged['median_price'] == bin)]\n",
    "    geo_layer.to_file(f\"{bin}.geojson\", driver='GeoJSON')"
   ]
  },
  {
   "cell_type": "code",
   "execution_count": 16,
   "metadata": {
    "ExecuteTime": {
     "end_time": "2019-07-01T22:58:20.084552Z",
     "start_time": "2019-07-01T22:58:20.080648Z"
    }
   },
   "outputs": [
    {
     "name": "stdout",
     "output_type": "stream",
     "text": [
      "{'39-57': '#f7fbff', '58-74': '#ebf3fb', '75-92': '#deebf7', '110-149': '#d2e3f3', '93-109': '#c6dbef'}\n"
     ]
    }
   ],
   "source": [
    "cs = [\"#f7fbff\",\"#ebf3fb\",\"#deebf7\",\"#d2e3f3\",\"#c6dbef\"]\n",
    "cm = dict(zip(bins, cs))\n",
    "print(cm)"
   ]
  },
  {
   "cell_type": "code",
   "execution_count": 17,
   "metadata": {
    "ExecuteTime": {
     "end_time": "2019-07-01T22:58:20.770164Z",
     "start_time": "2019-07-01T22:58:20.656902Z"
    }
   },
   "outputs": [],
   "source": [
    "geoj2 = json.loads(boroughs_gdf.to_json())"
   ]
  },
  {
   "cell_type": "code",
   "execution_count": 20,
   "metadata": {
    "ExecuteTime": {
     "end_time": "2019-07-01T22:58:36.276609Z",
     "start_time": "2019-07-01T22:58:36.273660Z"
    }
   },
   "outputs": [],
   "source": [
    "mapbox_access_token = 'pk.eyJ1IjoieGRnemFycSIsImEiOiJjanhrbXZpNHcyYzd2M3BsN3A3d29qbDc3In0.nSTAZlYpsFueIQLsN-hzoQ'\n"
   ]
  },
  {
   "cell_type": "code",
   "execution_count": 21,
   "metadata": {
    "ExecuteTime": {
     "end_time": "2019-07-01T22:58:37.020972Z",
     "start_time": "2019-07-01T22:58:37.018044Z"
    }
   },
   "outputs": [],
   "source": [
    "sources=[{\"type\": \"FeatureCollection\", 'features': [feat]} for feat in geoj2['features']]"
   ]
  },
  {
   "cell_type": "code",
   "execution_count": 37,
   "metadata": {
    "ExecuteTime": {
     "end_time": "2019-07-01T23:10:45.332159Z",
     "start_time": "2019-07-01T23:10:45.301901Z"
    }
   },
   "outputs": [],
   "source": [
    "base_url = 'https://raw.githubusercontent.com/andrew-siu12/Airbnb-data-analysis/master/preprocessed_data/'\n",
    "data = go.Data([\n",
    "    go.Scattermapbox(\n",
    "        lat=lat_lon_df['Latitude'],\n",
    "        lon=lat_lon_df['Longitude'],\n",
    "        mode='markers',\n",
    "        marker = dict(size=5, color='white', opacity=0),\n",
    "        text=lat_lon_df['Boroughs']\n",
    "    )\n",
    "])\n",
    "\n",
    "layout = go.Layout(\n",
    "    height=800,\n",
    "    autosize=True,\n",
    "    hovermode='closest',\n",
    "    margin = dict(r=0, l=0, t=0, b=0),\n",
    "    mapbox=dict(\n",
    "        layers = [dict(\n",
    "        sourcetype = 'geojson',\n",
    "        source = base_url + bin + '.geojson',\n",
    "        type='fill',\n",
    "        color = 'rgba(163,22,19,0.8)'\n",
    "        ) for bin in bins    \n",
    "        ],\n",
    "        accesstoken=mapbox_access_token,\n",
    "        center=dict(\n",
    "            lat=51.509865,\n",
    "            lon=-0.118092\n",
    "        ),\n",
    "        pitch=0,\n",
    "        zoom=8,\n",
    "    )\n",
    ")"
   ]
  },
  {
   "cell_type": "code",
   "execution_count": 38,
   "metadata": {
    "ExecuteTime": {
     "end_time": "2019-07-01T23:10:46.370091Z",
     "start_time": "2019-07-01T23:10:46.364237Z"
    }
   },
   "outputs": [
    {
     "data": {
      "text/plain": [
       "Layout({\n",
       "    'autosize': True,\n",
       "    'height': 800,\n",
       "    'hovermode': 'closest',\n",
       "    'mapbox': {'accesstoken': ('pk.eyJ1IjoieGRnemFycSIsImEiOiJ' ... 'bDc3In0.nSTAZlYpsFueIQLsN-hzoQ'),\n",
       "               'center': {'lat': 51.509865, 'lon': -0.118092},\n",
       "               'layers': [{'color': 'rgba(163,22,19,0.8)',\n",
       "                           'source': ('https://raw.githubusercontent.' ... 'reprocessed_data/39-57.geojson'),\n",
       "                           'sourcetype': 'geojson',\n",
       "                           'type': 'fill'},\n",
       "                          {'color': 'rgba(163,22,19,0.8)',\n",
       "                           'source': ('https://raw.githubusercontent.' ... 'reprocessed_data/58-74.geojson'),\n",
       "                           'sourcetype': 'geojson',\n",
       "                           'type': 'fill'},\n",
       "                          {'color': 'rgba(163,22,19,0.8)',\n",
       "                           'source': ('https://raw.githubusercontent.' ... 'reprocessed_data/75-92.geojson'),\n",
       "                           'sourcetype': 'geojson',\n",
       "                           'type': 'fill'},\n",
       "                          {'color': 'rgba(163,22,19,0.8)',\n",
       "                           'source': ('https://raw.githubusercontent.' ... 'processed_data/110-149.geojson'),\n",
       "                           'sourcetype': 'geojson',\n",
       "                           'type': 'fill'},\n",
       "                          {'color': 'rgba(163,22,19,0.8)',\n",
       "                           'source': ('https://raw.githubusercontent.' ... 'eprocessed_data/93-109.geojson'),\n",
       "                           'sourcetype': 'geojson',\n",
       "                           'type': 'fill'}],\n",
       "               'pitch': 0,\n",
       "               'zoom': 8},\n",
       "    'margin': {'b': 0, 'l': 0, 'r': 0, 't': 0}\n",
       "})"
      ]
     },
     "execution_count": 38,
     "metadata": {},
     "output_type": "execute_result"
    }
   ],
   "source": [
    "layout"
   ]
  },
  {
   "cell_type": "code",
   "execution_count": 39,
   "metadata": {
    "ExecuteTime": {
     "end_time": "2019-07-01T23:10:48.112705Z",
     "start_time": "2019-07-01T23:10:48.098064Z"
    }
   },
   "outputs": [
    {
     "ename": "TypeError",
     "evalue": "can only concatenate tuple (not \"dict\") to tuple",
     "output_type": "error",
     "traceback": [
      "\u001b[1;31m---------------------------------------------------------------------------\u001b[0m",
      "\u001b[1;31mTypeError\u001b[0m                                 Traceback (most recent call last)",
      "\u001b[1;32m<ipython-input-39-b38468a79c35>\u001b[0m in \u001b[0;36m<module>\u001b[1;34m\u001b[0m\n\u001b[0;32m      5\u001b[0m         \u001b[0mcolor\u001b[0m \u001b[1;33m=\u001b[0m \u001b[0mcm\u001b[0m\u001b[1;33m[\u001b[0m\u001b[0mbin\u001b[0m\u001b[1;33m]\u001b[0m\u001b[1;33m\u001b[0m\u001b[1;33m\u001b[0m\u001b[0m\n\u001b[0;32m      6\u001b[0m     )\n\u001b[1;32m----> 7\u001b[1;33m     \u001b[0mlayout\u001b[0m\u001b[1;33m[\u001b[0m\u001b[1;34m'mapbox'\u001b[0m\u001b[1;33m]\u001b[0m\u001b[1;33m[\u001b[0m\u001b[1;34m'layers'\u001b[0m\u001b[1;33m]\u001b[0m \u001b[1;33m+\u001b[0m \u001b[1;33m(\u001b[0m\u001b[0mgeo_layer\u001b[0m\u001b[1;33m)\u001b[0m\u001b[1;33m\u001b[0m\u001b[1;33m\u001b[0m\u001b[0m\n\u001b[0m",
      "\u001b[1;31mTypeError\u001b[0m: can only concatenate tuple (not \"dict\") to tuple"
     ]
    }
   ],
   "source": [
    "for bin in bins:\n",
    "    geo_layer = dict(\n",
    "        sourcetype = 'geojson',\n",
    "        source = 'preprocessed_data/' + bin + '.geojson',\n",
    "        color = cm[bin]\n",
    "    )\n",
    "    layout['mapbox']['layers'] + (geo_layer)"
   ]
  },
  {
   "cell_type": "code",
   "execution_count": 40,
   "metadata": {
    "ExecuteTime": {
     "end_time": "2019-07-01T23:10:49.052683Z",
     "start_time": "2019-07-01T23:10:48.959964Z"
    },
    "scrolled": false
   },
   "outputs": [
    {
     "data": {
      "application/vnd.plotly.v1+json": {
       "config": {
        "linkText": "Export to plot.ly",
        "plotlyServerURL": "https://plot.ly",
        "showLink": false
       },
       "data": [
        {
         "lat": [
          51.3817754504249,
          51.355059200361794,
          51.3668649405902,
          51.46188279462171,
          51.525070969406606,
          51.5597452903164,
          51.5425185324895,
          51.5967692888674,
          51.5638262772966,
          51.6125229993157,
          51.648740144141996,
          51.5981693576398,
          51.5863656348901,
          51.357512239366294,
          51.4597987392381,
          51.4646708350317,
          51.45343193384729,
          51.467585300113,
          51.46088543576221,
          51.4401700809948,
          51.41081020443621,
          51.451347955195395,
          51.498710378730095,
          51.5038343987405,
          51.5155771478236,
          51.5122924514503,
          51.5428273562621,
          51.515239013682205,
          51.5471563729848,
          51.548811878881295,
          51.5879302216211,
          51.531166131690206,
          51.5556847215674
         ],
         "lon": [
          -0.276987050007981,
          -0.06431427132855701,
          0.06169203292611901,
          -0.37987277894331395,
          -0.31431185847507104,
          0.24972236190822303,
          -0.44833254387690097,
          -0.337274917279205,
          -0.275759809255159,
          -0.21144402104819196,
          -0.08098040560155001,
          -0.017836943851287,
          0.069759574510861,
          -0.173640421848503,
          -0.12167601825850699,
          -0.068515458341503,
          -0.012510472707481,
          0.04834649123588201,
          0.144382304352732,
          -0.28861080133140504,
          -0.188111072063012,
          -0.19799735244210298,
          -0.23084475395809098,
          -0.20082825715441296,
          -0.093603158312844,
          -0.15320611073825502,
          -0.162504612833426,
          -0.035948769328721,
          -0.10169362989877802,
          -0.047666426098945995,
          -0.10541019047092501,
          0.027808129546499,
          0.150546917292094
         ],
         "marker": {
          "color": "white",
          "opacity": 0,
          "size": 5
         },
         "mode": "markers",
         "text": [
          "Kingston upon Thames",
          "Croydon",
          "Bromley",
          "Hounslow",
          "Ealing",
          "Havering",
          "Hillingdon",
          "Harrow",
          "Brent",
          "Barnet",
          "Enfield",
          "Waltham Forest",
          "Redbridge",
          "Sutton",
          "Lambeth",
          "Southwark",
          "Lewisham",
          "Greenwich",
          "Bexley",
          "Richmond upon Thames",
          "Merton",
          "Wandsworth",
          "Hammersmith and Fulham",
          "Kensington and Chelsea",
          "City of London",
          "Westminster",
          "Camden",
          "Tower Hamlets",
          "Islington",
          "Hackney",
          "Haringey",
          "Newham",
          "Barking and Dagenham"
         ],
         "type": "scattermapbox",
         "uid": "3d6acbd9-a6eb-4157-aa4a-a6d6eb360aea"
        }
       ],
       "layout": {
        "autosize": true,
        "height": 800,
        "hovermode": "closest",
        "mapbox": {
         "accesstoken": "pk.eyJ1IjoieGRnemFycSIsImEiOiJjanhrbXZpNHcyYzd2M3BsN3A3d29qbDc3In0.nSTAZlYpsFueIQLsN-hzoQ",
         "center": {
          "lat": 51.509865,
          "lon": -0.118092
         },
         "layers": [
          {
           "color": "rgba(163,22,19,0.8)",
           "source": "https://raw.githubusercontent.com/andrew-siu12/Airbnb-data-analysis/master/preprocessed_data/39-57.geojson",
           "sourcetype": "geojson",
           "type": "fill"
          },
          {
           "color": "rgba(163,22,19,0.8)",
           "source": "https://raw.githubusercontent.com/andrew-siu12/Airbnb-data-analysis/master/preprocessed_data/58-74.geojson",
           "sourcetype": "geojson",
           "type": "fill"
          },
          {
           "color": "rgba(163,22,19,0.8)",
           "source": "https://raw.githubusercontent.com/andrew-siu12/Airbnb-data-analysis/master/preprocessed_data/75-92.geojson",
           "sourcetype": "geojson",
           "type": "fill"
          },
          {
           "color": "rgba(163,22,19,0.8)",
           "source": "https://raw.githubusercontent.com/andrew-siu12/Airbnb-data-analysis/master/preprocessed_data/110-149.geojson",
           "sourcetype": "geojson",
           "type": "fill"
          },
          {
           "color": "rgba(163,22,19,0.8)",
           "source": "https://raw.githubusercontent.com/andrew-siu12/Airbnb-data-analysis/master/preprocessed_data/93-109.geojson",
           "sourcetype": "geojson",
           "type": "fill"
          }
         ],
         "pitch": 0,
         "zoom": 8
        },
        "margin": {
         "b": 0,
         "l": 0,
         "r": 0,
         "t": 0
        }
       }
      },
      "text/html": [
       "<div>\n",
       "        \n",
       "        \n",
       "            <div id=\"8f7bfaa0-619f-42fb-8c7a-b99b686c2e87\" class=\"plotly-graph-div\" style=\"height:800px; width:100%;\"></div>\n",
       "            <script type=\"text/javascript\">\n",
       "                require([\"plotly\"], function(Plotly) {\n",
       "                    window.PLOTLYENV=window.PLOTLYENV || {};\n",
       "                    window.PLOTLYENV.BASE_URL='https://plot.ly';\n",
       "                    \n",
       "                if (document.getElementById(\"8f7bfaa0-619f-42fb-8c7a-b99b686c2e87\")) {\n",
       "                    Plotly.newPlot(\n",
       "                        '8f7bfaa0-619f-42fb-8c7a-b99b686c2e87',\n",
       "                        [{\"lat\": [51.3817754504249, 51.355059200361794, 51.3668649405902, 51.46188279462171, 51.525070969406606, 51.5597452903164, 51.5425185324895, 51.5967692888674, 51.5638262772966, 51.6125229993157, 51.648740144141996, 51.5981693576398, 51.5863656348901, 51.357512239366294, 51.4597987392381, 51.4646708350317, 51.45343193384729, 51.467585300113, 51.46088543576221, 51.4401700809948, 51.41081020443621, 51.451347955195395, 51.498710378730095, 51.5038343987405, 51.5155771478236, 51.5122924514503, 51.5428273562621, 51.515239013682205, 51.5471563729848, 51.548811878881295, 51.5879302216211, 51.531166131690206, 51.5556847215674], \"lon\": [-0.276987050007981, -0.06431427132855701, 0.06169203292611901, -0.37987277894331395, -0.31431185847507104, 0.24972236190822303, -0.44833254387690097, -0.337274917279205, -0.275759809255159, -0.21144402104819196, -0.08098040560155001, -0.017836943851287, 0.069759574510861, -0.173640421848503, -0.12167601825850699, -0.068515458341503, -0.012510472707481, 0.04834649123588201, 0.144382304352732, -0.28861080133140504, -0.188111072063012, -0.19799735244210298, -0.23084475395809098, -0.20082825715441296, -0.093603158312844, -0.15320611073825502, -0.162504612833426, -0.035948769328721, -0.10169362989877802, -0.047666426098945995, -0.10541019047092501, 0.027808129546499, 0.150546917292094], \"marker\": {\"color\": \"white\", \"opacity\": 0, \"size\": 5}, \"mode\": \"markers\", \"text\": [\"Kingston upon Thames\", \"Croydon\", \"Bromley\", \"Hounslow\", \"Ealing\", \"Havering\", \"Hillingdon\", \"Harrow\", \"Brent\", \"Barnet\", \"Enfield\", \"Waltham Forest\", \"Redbridge\", \"Sutton\", \"Lambeth\", \"Southwark\", \"Lewisham\", \"Greenwich\", \"Bexley\", \"Richmond upon Thames\", \"Merton\", \"Wandsworth\", \"Hammersmith and Fulham\", \"Kensington and Chelsea\", \"City of London\", \"Westminster\", \"Camden\", \"Tower Hamlets\", \"Islington\", \"Hackney\", \"Haringey\", \"Newham\", \"Barking and Dagenham\"], \"type\": \"scattermapbox\", \"uid\": \"3d6acbd9-a6eb-4157-aa4a-a6d6eb360aea\"}],\n",
       "                        {\"autosize\": true, \"height\": 800, \"hovermode\": \"closest\", \"mapbox\": {\"accesstoken\": \"pk.eyJ1IjoieGRnemFycSIsImEiOiJjanhrbXZpNHcyYzd2M3BsN3A3d29qbDc3In0.nSTAZlYpsFueIQLsN-hzoQ\", \"center\": {\"lat\": 51.509865, \"lon\": -0.118092}, \"layers\": [{\"color\": \"rgba(163,22,19,0.8)\", \"source\": \"https://raw.githubusercontent.com/andrew-siu12/Airbnb-data-analysis/master/preprocessed_data/39-57.geojson\", \"sourcetype\": \"geojson\", \"type\": \"fill\"}, {\"color\": \"rgba(163,22,19,0.8)\", \"source\": \"https://raw.githubusercontent.com/andrew-siu12/Airbnb-data-analysis/master/preprocessed_data/58-74.geojson\", \"sourcetype\": \"geojson\", \"type\": \"fill\"}, {\"color\": \"rgba(163,22,19,0.8)\", \"source\": \"https://raw.githubusercontent.com/andrew-siu12/Airbnb-data-analysis/master/preprocessed_data/75-92.geojson\", \"sourcetype\": \"geojson\", \"type\": \"fill\"}, {\"color\": \"rgba(163,22,19,0.8)\", \"source\": \"https://raw.githubusercontent.com/andrew-siu12/Airbnb-data-analysis/master/preprocessed_data/110-149.geojson\", \"sourcetype\": \"geojson\", \"type\": \"fill\"}, {\"color\": \"rgba(163,22,19,0.8)\", \"source\": \"https://raw.githubusercontent.com/andrew-siu12/Airbnb-data-analysis/master/preprocessed_data/93-109.geojson\", \"sourcetype\": \"geojson\", \"type\": \"fill\"}], \"pitch\": 0, \"zoom\": 8}, \"margin\": {\"b\": 0, \"l\": 0, \"r\": 0, \"t\": 0}},\n",
       "                        {\"showLink\": false, \"linkText\": \"Export to plot.ly\", \"plotlyServerURL\": \"https://plot.ly\", \"responsive\": true}\n",
       "                    ).then(function(){\n",
       "                            \n",
       "var gd = document.getElementById('8f7bfaa0-619f-42fb-8c7a-b99b686c2e87');\n",
       "var x = new MutationObserver(function (mutations, observer) {{\n",
       "        var display = window.getComputedStyle(gd).display;\n",
       "        if (!display || display === 'none') {{\n",
       "            console.log([gd, 'removed!']);\n",
       "            Plotly.purge(gd);\n",
       "            observer.disconnect();\n",
       "        }}\n",
       "}});\n",
       "\n",
       "// Listen for the removal of the full notebook cells\n",
       "var notebookContainer = gd.closest('#notebook-container');\n",
       "if (notebookContainer) {{\n",
       "    x.observe(notebookContainer, {childList: true});\n",
       "}}\n",
       "\n",
       "// Listen for the clearing of the current output cell\n",
       "var outputEl = gd.closest('.output');\n",
       "if (outputEl) {{\n",
       "    x.observe(outputEl, {childList: true});\n",
       "}}\n",
       "\n",
       "                        })\n",
       "                };\n",
       "                });\n",
       "            </script>\n",
       "        </div>"
      ]
     },
     "metadata": {},
     "output_type": "display_data"
    }
   ],
   "source": [
    "fig = dict(data=data, layout=layout)\n",
    "py.iplot(fig, filename='county-level-choropleths-python')"
   ]
  },
  {
   "cell_type": "code",
   "execution_count": null,
   "metadata": {},
   "outputs": [],
   "source": []
  }
 ],
 "metadata": {
  "kernelspec": {
   "display_name": "Python 3",
   "language": "python",
   "name": "python3"
  },
  "language_info": {
   "codemirror_mode": {
    "name": "ipython",
    "version": 3
   },
   "file_extension": ".py",
   "mimetype": "text/x-python",
   "name": "python",
   "nbconvert_exporter": "python",
   "pygments_lexer": "ipython3",
   "version": "3.7.3"
  },
  "varInspector": {
   "cols": {
    "lenName": 16,
    "lenType": 16,
    "lenVar": 40
   },
   "kernels_config": {
    "python": {
     "delete_cmd_postfix": "",
     "delete_cmd_prefix": "del ",
     "library": "var_list.py",
     "varRefreshCmd": "print(var_dic_list())"
    },
    "r": {
     "delete_cmd_postfix": ") ",
     "delete_cmd_prefix": "rm(",
     "library": "var_list.r",
     "varRefreshCmd": "cat(var_dic_list()) "
    }
   },
   "types_to_exclude": [
    "module",
    "function",
    "builtin_function_or_method",
    "instance",
    "_Feature"
   ],
   "window_display": false
  }
 },
 "nbformat": 4,
 "nbformat_minor": 2
}
